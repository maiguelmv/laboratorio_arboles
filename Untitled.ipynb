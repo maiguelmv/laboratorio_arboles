{
  "nbformat": 4,
  "nbformat_minor": 0,
  "metadata": {
    "colab": {
      "provenance": []
    },
    "kernelspec": {
      "name": "python3",
      "display_name": "Python 3"
    },
    "language_info": {
      "name": "python"
    }
  },
  "cells": [
    {
      "cell_type": "code",
      "execution_count": null,
      "metadata": {
        "colab": {
          "base_uri": "https://localhost:8080/"
        },
        "id": "7Po4cO_aa6ie",
        "outputId": "55b623df-0e81-4a66-f570-6e45bb78f98d"
      },
      "outputs": [
        {
          "output_type": "stream",
          "name": "stdout",
          "text": [
            "Cloning into 'laboratorio_arboles'...\n",
            "remote: Enumerating objects: 10, done.\u001b[K\n",
            "remote: Counting objects: 100% (10/10), done.\u001b[K\n",
            "remote: Compressing objects: 100% (9/9), done.\u001b[K\n",
            "remote: Total 10 (delta 0), reused 10 (delta 0), pack-reused 0 (from 0)\u001b[K\n",
            "Receiving objects: 100% (10/10), 35.83 KiB | 2.99 MiB/s, done.\n"
          ]
        }
      ],
      "source": [
        "!git clone https://github.com/TAVA-yuli/laboratorio_arboles.git"
      ]
    },
    {
      "cell_type": "code",
      "source": [
        "%cd /content/laboratorio_arboles"
      ],
      "metadata": {
        "colab": {
          "base_uri": "https://localhost:8080/"
        },
        "id": "8f-pf4_abDu4",
        "outputId": "841b658b-34b4-468f-b380-5364d4762590"
      },
      "execution_count": null,
      "outputs": [
        {
          "output_type": "stream",
          "name": "stdout",
          "text": [
            "/content/laboratorio_arboles\n"
          ]
        }
      ]
    },
    {
      "cell_type": "code",
      "source": [
        "!pip install pandas matplotlib networkx"
      ],
      "metadata": {
        "colab": {
          "base_uri": "https://localhost:8080/"
        },
        "id": "5n-sCq2wbHcJ",
        "outputId": "362f5a6c-134f-4eb4-cba8-62171a624378"
      },
      "execution_count": null,
      "outputs": [
        {
          "output_type": "stream",
          "name": "stdout",
          "text": [
            "Requirement already satisfied: pandas in /usr/local/lib/python3.12/dist-packages (2.2.2)\n",
            "Requirement already satisfied: matplotlib in /usr/local/lib/python3.12/dist-packages (3.10.0)\n",
            "Requirement already satisfied: networkx in /usr/local/lib/python3.12/dist-packages (3.5)\n",
            "Requirement already satisfied: numpy>=1.26.0 in /usr/local/lib/python3.12/dist-packages (from pandas) (2.0.2)\n",
            "Requirement already satisfied: python-dateutil>=2.8.2 in /usr/local/lib/python3.12/dist-packages (from pandas) (2.9.0.post0)\n",
            "Requirement already satisfied: pytz>=2020.1 in /usr/local/lib/python3.12/dist-packages (from pandas) (2025.2)\n",
            "Requirement already satisfied: tzdata>=2022.7 in /usr/local/lib/python3.12/dist-packages (from pandas) (2025.2)\n",
            "Requirement already satisfied: contourpy>=1.0.1 in /usr/local/lib/python3.12/dist-packages (from matplotlib) (1.3.3)\n",
            "Requirement already satisfied: cycler>=0.10 in /usr/local/lib/python3.12/dist-packages (from matplotlib) (0.12.1)\n",
            "Requirement already satisfied: fonttools>=4.22.0 in /usr/local/lib/python3.12/dist-packages (from matplotlib) (4.60.0)\n",
            "Requirement already satisfied: kiwisolver>=1.3.1 in /usr/local/lib/python3.12/dist-packages (from matplotlib) (1.4.9)\n",
            "Requirement already satisfied: packaging>=20.0 in /usr/local/lib/python3.12/dist-packages (from matplotlib) (25.0)\n",
            "Requirement already satisfied: pillow>=8 in /usr/local/lib/python3.12/dist-packages (from matplotlib) (11.3.0)\n",
            "Requirement already satisfied: pyparsing>=2.3.1 in /usr/local/lib/python3.12/dist-packages (from matplotlib) (3.2.4)\n",
            "Requirement already satisfied: six>=1.5 in /usr/local/lib/python3.12/dist-packages (from python-dateutil>=2.8.2->pandas) (1.17.0)\n"
          ]
        }
      ]
    },
    {
      "cell_type": "code",
      "source": [
        "!python3 main.py"
      ],
      "metadata": {
        "colab": {
          "base_uri": "https://localhost:8080/"
        },
        "id": "Bvxk-OFpetz_",
        "outputId": "dd007730-1690-40b3-cabb-0a98c3553e53",
        "collapsed": true
      },
      "execution_count": null,
      "outputs": [
        {
          "output_type": "stream",
          "name": "stdout",
          "text": [
            "Cargado. Países: 225\n",
            "\n",
            "=== LAB 1 — Árbol AVL con métrica = media (1961–2022) ===\n",
            "1) Recorrido por niveles\n",
            "2) Insertar país por ISO3\n",
            "3) Eliminar por MÉTRICA (media)\n",
            "4) Buscar por MÉTRICA (media exacta)\n",
            "5) Consulta 4a: \n",
            "6) Consulta 4b:\n",
            "7) Consulta 4c: \n",
            "8) Ver información de un nodo (nivel, balance, padre/abuelo/tío)\n",
            "9) Dibujar árbol (Graphviz)\n",
            "0) Salir\n",
            "Elige opción: 1\n",
            "Nivel 0: AFG\n",
            "Nivel 1: AIA, CYM\n",
            "Nivel 2: ERI, CAF, BEL, DZA\n",
            "Nivel 3: ABW, DMA, BHS, ALB, LAO, BIH, CAN, EST\n",
            "Nivel 4: BDI, ARG, IDN, BTN, VGB, IRL, KEN, MWI, BEN, BGR, DJI, GIN, IRQ, CZE, BHR, AND\n",
            "Nivel 5: FSM, BWA, IND, CRI, EGY, MOZ, COL, ATG, FRO, CYP, ASM, GRL, LBY, GEO, KHM, PER, COD, LSO, ARM, AZE, MYS, LUX, TKM, CUB, HRV, KAZ, NCL, CPV, BLR, FRA, KWT, AUT\n",
            "Nivel 6: FLK, COK, NFK, NPL, CHL, OMN, PNG, GRC, ISL, JOR, LCA, GRD, MUS, SGP, GLP, MSR, SLV, HKG, NAM, ARE, GTM, CMR, IMN, HND, LKA, TCD, BOL, NER, MMR, AGO, SYR, BLZ, ECU, TGO, PHL, NGA, SAU, GHA, BRA, BFA, JAM, DOM, ROU, CHN, SLE, SVK, MLI, PRK, MLT, ITA, GIB, SMR, LTU, GNB, SHN, LVA, NLD, SWE, TUN, SEN, FIN, MRT\n",
            "Nivel 7: PCN, MHL, NRU, SDN, SSD, KIR, BGD, BRB, PAK, NZL, MYT, ISR, PYF, WLF, VUT, WSM, TWN, TUV, SLB, MTQ, FJI, TTO, PRY, GAB, SYC, KNA, VEN, TLS, VIR, MAC, VNM, COG, LBN, GNQ, SWZ, MDG, MEX, MNE, MKD, TJK, PRI, NIC, MDV, SRB, GBR, ZAF, KOR, AUS, ETH, GUY, BRN, THA, STP, TCA, SOM, KGZ, WLD, VAT, UZB, SUR, MDA, HTI, UKR, LBR, QAT, NOR, HUN, PRT, ESP, MCO, DNK, POL, RUS, MAR, DEU, GMB, LIE, ESH, MNG\n",
            "Nivel 8: RWA, YEM, TKL, NIU, ZWE, SPM, COM, PLW, PSE, URY, JPN, VCT, TON, ZMB, PAN, TZA, USA, UGA, IRN, SVN, CHE\n",
            "\n",
            "=== LAB 1 — Árbol AVL con métrica = media (1961–2022) ===\n",
            "1) Recorrido por niveles\n",
            "2) Insertar país por ISO3\n",
            "3) Eliminar por MÉTRICA (media)\n",
            "4) Buscar por MÉTRICA (media exacta)\n",
            "5) Consulta 4a: \n",
            "6) Consulta 4b:\n",
            "7) Consulta 4c: \n",
            "8) Ver información de un nodo (nivel, balance, padre/abuelo/tío)\n",
            "9) Dibujar árbol (Graphviz)\n",
            "0) Salir\n",
            "Elige opción: 3\n",
            "Métrica (media) a eliminar: 0.352174\n",
            "No se encontró ningún nodo con esa métrica (¿quizá escribiste un valor distinto?).\n",
            "\n",
            "=== LAB 1 — Árbol AVL con métrica = media (1961–2022) ===\n",
            "1) Recorrido por niveles\n",
            "2) Insertar país por ISO3\n",
            "3) Eliminar por MÉTRICA (media)\n",
            "4) Buscar por MÉTRICA (media exacta)\n",
            "5) Consulta 4a: \n",
            "6) Consulta 4b:\n",
            "7) Consulta 4c: \n",
            "8) Ver información de un nodo (nivel, balance, padre/abuelo/tío)\n",
            "9) Dibujar árbol (Graphviz)\n",
            "0) Salir\n",
            "Elige opción: 3\n",
            "Métrica (media) a eliminar: 0.352174\n",
            "No se encontró ningún nodo con esa métrica (¿quizá escribiste un valor distinto?).\n",
            "\n",
            "=== LAB 1 — Árbol AVL con métrica = media (1961–2022) ===\n",
            "1) Recorrido por niveles\n",
            "2) Insertar país por ISO3\n",
            "3) Eliminar por MÉTRICA (media)\n",
            "4) Buscar por MÉTRICA (media exacta)\n",
            "5) Consulta 4a: \n",
            "6) Consulta 4b:\n",
            "7) Consulta 4c: \n",
            "8) Ver información de un nodo (nivel, balance, padre/abuelo/tío)\n",
            "9) Dibujar árbol (Graphviz)\n",
            "0) Salir\n",
            "Elige opción: 3\n",
            "Métrica (media) a eliminar: 0,3800\n",
            "Eliminados 1 nodo(s) con métrica ≈ 0.38.\n",
            "Árbol renderizado en tree.png\n",
            "\n",
            "=== LAB 1 — Árbol AVL con métrica = media (1961–2022) ===\n",
            "1) Recorrido por niveles\n",
            "2) Insertar país por ISO3\n",
            "3) Eliminar por MÉTRICA (media)\n",
            "4) Buscar por MÉTRICA (media exacta)\n",
            "5) Consulta 4a: \n",
            "6) Consulta 4b:\n",
            "7) Consulta 4c: \n",
            "8) Ver información de un nodo (nivel, balance, padre/abuelo/tío)\n",
            "9) Dibujar árbol (Graphviz)\n",
            "0) Salir\n",
            "Elige opción: 4\n",
            "Ingresa la MÉTRICA (media): 0.3755\n",
            "No exacto. Más cercano: LCA | media = 0.375484\n",
            "\n",
            "=== LAB 1 — Árbol AVL con métrica = media (1961–2022) ===\n",
            "1) Recorrido por niveles\n",
            "2) Insertar país por ISO3\n",
            "3) Eliminar por MÉTRICA (media)\n",
            "4) Buscar por MÉTRICA (media exacta)\n",
            "5) Consulta 4a: \n",
            "6) Consulta 4b:\n",
            "7) Consulta 4c: \n",
            "8) Ver información de un nodo (nivel, balance, padre/abuelo/tío)\n",
            "9) Dibujar árbol (Graphviz)\n",
            "0) Salir\n",
            "Elige opción: 4\n",
            "Ingresa la MÉTRICA (media): 4\n",
            "No exacto. Más cercano: MNG | media = 0.895597\n",
            "\n",
            "=== LAB 1 — Árbol AVL con métrica = media (1961–2022) ===\n",
            "1) Recorrido por niveles\n",
            "2) Insertar país por ISO3\n",
            "3) Eliminar por MÉTRICA (media)\n",
            "4) Buscar por MÉTRICA (media exacta)\n",
            "5) Consulta 4a: \n",
            "6) Consulta 4b:\n",
            "7) Consulta 4c: \n",
            "8) Ver información de un nodo (nivel, balance, padre/abuelo/tío)\n",
            "9) Dibujar árbol (Graphviz)\n",
            "0) Salir\n",
            "Elige opción: 4\n",
            "Ingresa la MÉTRICA (media): 0.3581\n",
            "No exacto. Más cercano: WSM | media = 0.358097\n",
            "\n",
            "=== LAB 1 — Árbol AVL con métrica = media (1961–2022) ===\n",
            "1) Recorrido por niveles\n",
            "2) Insertar país por ISO3\n",
            "3) Eliminar por MÉTRICA (media)\n",
            "4) Buscar por MÉTRICA (media exacta)\n",
            "5) Consulta 4a: \n",
            "6) Consulta 4b:\n",
            "7) Consulta 4c: \n",
            "8) Ver información de un nodo (nivel, balance, padre/abuelo/tío)\n",
            "9) Dibujar árbol (Graphviz)\n",
            "0) Salir\n",
            "Elige opción: 4\n",
            "Ingresa la MÉTRICA (media): 0.358097\n",
            "Encontrado: WSM | País: Samoa | media = 0.358097\n",
            "¿Ver info detallada (nivel/balance/padre/abuelo/tío)? [S/N]: "
          ]
        }
      ]
    },
    {
      "cell_type": "code",
      "source": [],
      "metadata": {
        "id": "8sn0XEDwrj6Z"
      },
      "execution_count": null,
      "outputs": []
    }
  ]
}